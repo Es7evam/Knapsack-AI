{
 "cells": [
  {
   "cell_type": "markdown",
   "metadata": {},
   "source": [
    "# Analisando os algoritmos de busca aplicados ao problema da Mochila Binária\n",
    "\n",
    "Esse notebook tem como objetivo analisar os dados obtidos ao rodarmos os algoritmos de busca em 800 casos de teste gerados de forma pseudo-aleatória."
   ]
  },
  {
   "cell_type": "markdown",
   "metadata": {},
   "source": [
    "## Importando os dados dos testes\n",
    "\n",
    "Aqui simplesmente adicionamos as bibliotecas que serão usadas e importamos o .csv que conteḿ os resultados de cada um dos testes."
   ]
  },
  {
   "cell_type": "code",
   "execution_count": 1,
   "metadata": {
    "ExecuteTime": {
     "end_time": "2019-04-18T19:15:59.760595Z",
     "start_time": "2019-04-18T19:15:58.219259Z"
    }
   },
   "outputs": [],
   "source": [
    "import numpy as np\n",
    "import pandas as pd\n",
    "import matplotlib.pyplot as plt\n",
    "import seaborn as sns\n",
    "\n",
    "sns.set()\n",
    "\n",
    "import warnings\n",
    "warnings.filterwarnings('ignore')"
   ]
  },
  {
   "cell_type": "code",
   "execution_count": 2,
   "metadata": {
    "ExecuteTime": {
     "end_time": "2019-04-18T19:15:59.957373Z",
     "start_time": "2019-04-18T19:15:59.762836Z"
    }
   },
   "outputs": [
    {
     "data": {
      "text/html": [
       "<div>\n",
       "<style scoped>\n",
       "    .dataframe tbody tr th:only-of-type {\n",
       "        vertical-align: middle;\n",
       "    }\n",
       "\n",
       "    .dataframe tbody tr th {\n",
       "        vertical-align: top;\n",
       "    }\n",
       "\n",
       "    .dataframe thead th {\n",
       "        text-align: right;\n",
       "    }\n",
       "</style>\n",
       "<table border=\"1\" class=\"dataframe\">\n",
       "  <thead>\n",
       "    <tr style=\"text-align: right;\">\n",
       "      <th></th>\n",
       "      <th>case_test</th>\n",
       "      <th>size</th>\n",
       "      <th>search_type</th>\n",
       "      <th>count</th>\n",
       "      <th>time</th>\n",
       "      <th>ids</th>\n",
       "      <th>right_answer</th>\n",
       "    </tr>\n",
       "  </thead>\n",
       "  <tbody>\n",
       "    <tr>\n",
       "      <th>0</th>\n",
       "      <td>tests/0-test.txt</td>\n",
       "      <td>4</td>\n",
       "      <td>Blind Search</td>\n",
       "      <td>64</td>\n",
       "      <td>0.007</td>\n",
       "      <td>1 2</td>\n",
       "      <td>1 2</td>\n",
       "    </tr>\n",
       "    <tr>\n",
       "      <th>1</th>\n",
       "      <td>tests/0-test.txt</td>\n",
       "      <td>4</td>\n",
       "      <td>Best-Fit Search</td>\n",
       "      <td>4</td>\n",
       "      <td>0.008</td>\n",
       "      <td>1 2</td>\n",
       "      <td>1 2</td>\n",
       "    </tr>\n",
       "    <tr>\n",
       "      <th>2</th>\n",
       "      <td>tests/0-test.txt</td>\n",
       "      <td>4</td>\n",
       "      <td>B&amp;B DFS</td>\n",
       "      <td>1</td>\n",
       "      <td>0.010</td>\n",
       "      <td>1 2</td>\n",
       "      <td>1 2</td>\n",
       "    </tr>\n",
       "    <tr>\n",
       "      <th>3</th>\n",
       "      <td>tests/0-test.txt</td>\n",
       "      <td>4</td>\n",
       "      <td>B&amp;B BFS</td>\n",
       "      <td>1</td>\n",
       "      <td>0.010</td>\n",
       "      <td>1 2</td>\n",
       "      <td>1 2</td>\n",
       "    </tr>\n",
       "    <tr>\n",
       "      <th>4</th>\n",
       "      <td>tests/1-test.txt</td>\n",
       "      <td>8</td>\n",
       "      <td>Blind Search</td>\n",
       "      <td>2048</td>\n",
       "      <td>0.037</td>\n",
       "      <td>2 4 5 7</td>\n",
       "      <td>2 4 5 7</td>\n",
       "    </tr>\n",
       "    <tr>\n",
       "      <th>5</th>\n",
       "      <td>tests/1-test.txt</td>\n",
       "      <td>8</td>\n",
       "      <td>Best-Fit Search</td>\n",
       "      <td>8</td>\n",
       "      <td>0.012</td>\n",
       "      <td>2 5 4 7</td>\n",
       "      <td>2 4 5 7</td>\n",
       "    </tr>\n",
       "    <tr>\n",
       "      <th>6</th>\n",
       "      <td>tests/1-test.txt</td>\n",
       "      <td>8</td>\n",
       "      <td>B&amp;B DFS</td>\n",
       "      <td>1</td>\n",
       "      <td>0.013</td>\n",
       "      <td>2 4 5 7</td>\n",
       "      <td>2 4 5 7</td>\n",
       "    </tr>\n",
       "    <tr>\n",
       "      <th>7</th>\n",
       "      <td>tests/1-test.txt</td>\n",
       "      <td>8</td>\n",
       "      <td>B&amp;B BFS</td>\n",
       "      <td>1</td>\n",
       "      <td>0.014</td>\n",
       "      <td>2 4 5 7</td>\n",
       "      <td>2 4 5 7</td>\n",
       "    </tr>\n",
       "    <tr>\n",
       "      <th>8</th>\n",
       "      <td>tests/2-test.txt</td>\n",
       "      <td>10</td>\n",
       "      <td>Blind Search</td>\n",
       "      <td>10240</td>\n",
       "      <td>0.142</td>\n",
       "      <td>0 2 5 7 9</td>\n",
       "      <td>0 2 5 7 9</td>\n",
       "    </tr>\n",
       "    <tr>\n",
       "      <th>9</th>\n",
       "      <td>tests/2-test.txt</td>\n",
       "      <td>10</td>\n",
       "      <td>Best-Fit Search</td>\n",
       "      <td>10</td>\n",
       "      <td>0.014</td>\n",
       "      <td>7 9 0 5 8 1 4 6</td>\n",
       "      <td>0 2 5 7 9</td>\n",
       "    </tr>\n",
       "    <tr>\n",
       "      <th>10</th>\n",
       "      <td>tests/2-test.txt</td>\n",
       "      <td>10</td>\n",
       "      <td>B&amp;B DFS</td>\n",
       "      <td>23</td>\n",
       "      <td>0.111</td>\n",
       "      <td>0 2 5 7 9</td>\n",
       "      <td>0 2 5 7 9</td>\n",
       "    </tr>\n",
       "    <tr>\n",
       "      <th>11</th>\n",
       "      <td>tests/2-test.txt</td>\n",
       "      <td>10</td>\n",
       "      <td>B&amp;B BFS</td>\n",
       "      <td>21</td>\n",
       "      <td>0.163</td>\n",
       "      <td>0 2 5 7 9</td>\n",
       "      <td>0 2 5 7 9</td>\n",
       "    </tr>\n",
       "    <tr>\n",
       "      <th>12</th>\n",
       "      <td>tests/3-test.txt</td>\n",
       "      <td>5</td>\n",
       "      <td>Blind Search</td>\n",
       "      <td>160</td>\n",
       "      <td>0.009</td>\n",
       "      <td>0 1 2 3</td>\n",
       "      <td>0 1 2 3</td>\n",
       "    </tr>\n",
       "    <tr>\n",
       "      <th>13</th>\n",
       "      <td>tests/3-test.txt</td>\n",
       "      <td>5</td>\n",
       "      <td>Best-Fit Search</td>\n",
       "      <td>5</td>\n",
       "      <td>0.009</td>\n",
       "      <td>1 3 0 2</td>\n",
       "      <td>0 1 2 3</td>\n",
       "    </tr>\n",
       "    <tr>\n",
       "      <th>14</th>\n",
       "      <td>tests/3-test.txt</td>\n",
       "      <td>5</td>\n",
       "      <td>B&amp;B DFS</td>\n",
       "      <td>5</td>\n",
       "      <td>0.021</td>\n",
       "      <td>0 1 2 3</td>\n",
       "      <td>0 1 2 3</td>\n",
       "    </tr>\n",
       "    <tr>\n",
       "      <th>15</th>\n",
       "      <td>tests/3-test.txt</td>\n",
       "      <td>5</td>\n",
       "      <td>B&amp;B BFS</td>\n",
       "      <td>3</td>\n",
       "      <td>0.020</td>\n",
       "      <td>0 1 2 3</td>\n",
       "      <td>0 1 2 3</td>\n",
       "    </tr>\n",
       "    <tr>\n",
       "      <th>16</th>\n",
       "      <td>tests/4-test.txt</td>\n",
       "      <td>7</td>\n",
       "      <td>Blind Search</td>\n",
       "      <td>896</td>\n",
       "      <td>0.021</td>\n",
       "      <td>0 2 4 6</td>\n",
       "      <td>0 2 4 6</td>\n",
       "    </tr>\n",
       "    <tr>\n",
       "      <th>17</th>\n",
       "      <td>tests/4-test.txt</td>\n",
       "      <td>7</td>\n",
       "      <td>Best-Fit Search</td>\n",
       "      <td>7</td>\n",
       "      <td>0.011</td>\n",
       "      <td>0 6 5 2</td>\n",
       "      <td>0 2 4 6</td>\n",
       "    </tr>\n",
       "    <tr>\n",
       "      <th>18</th>\n",
       "      <td>tests/4-test.txt</td>\n",
       "      <td>7</td>\n",
       "      <td>B&amp;B DFS</td>\n",
       "      <td>21</td>\n",
       "      <td>0.078</td>\n",
       "      <td>0 2 4 6</td>\n",
       "      <td>0 2 4 6</td>\n",
       "    </tr>\n",
       "    <tr>\n",
       "      <th>19</th>\n",
       "      <td>tests/4-test.txt</td>\n",
       "      <td>7</td>\n",
       "      <td>B&amp;B BFS</td>\n",
       "      <td>21</td>\n",
       "      <td>0.130</td>\n",
       "      <td>0 2 4 6</td>\n",
       "      <td>0 2 4 6</td>\n",
       "    </tr>\n",
       "    <tr>\n",
       "      <th>20</th>\n",
       "      <td>tests/5-test.txt</td>\n",
       "      <td>1</td>\n",
       "      <td>Blind Search</td>\n",
       "      <td>2</td>\n",
       "      <td>0.007</td>\n",
       "      <td>0</td>\n",
       "      <td>0</td>\n",
       "    </tr>\n",
       "    <tr>\n",
       "      <th>21</th>\n",
       "      <td>tests/5-test.txt</td>\n",
       "      <td>1</td>\n",
       "      <td>Best-Fit Search</td>\n",
       "      <td>1</td>\n",
       "      <td>0.007</td>\n",
       "      <td>0</td>\n",
       "      <td>0</td>\n",
       "    </tr>\n",
       "    <tr>\n",
       "      <th>22</th>\n",
       "      <td>tests/5-test.txt</td>\n",
       "      <td>1</td>\n",
       "      <td>B&amp;B DFS</td>\n",
       "      <td>1</td>\n",
       "      <td>0.012</td>\n",
       "      <td>0</td>\n",
       "      <td>0</td>\n",
       "    </tr>\n",
       "    <tr>\n",
       "      <th>23</th>\n",
       "      <td>tests/5-test.txt</td>\n",
       "      <td>1</td>\n",
       "      <td>B&amp;B BFS</td>\n",
       "      <td>1</td>\n",
       "      <td>0.015</td>\n",
       "      <td>0</td>\n",
       "      <td>0</td>\n",
       "    </tr>\n",
       "    <tr>\n",
       "      <th>24</th>\n",
       "      <td>tests/6-test.txt</td>\n",
       "      <td>1</td>\n",
       "      <td>Blind Search</td>\n",
       "      <td>2</td>\n",
       "      <td>0.004</td>\n",
       "      <td>NaN</td>\n",
       "      <td>NaN</td>\n",
       "    </tr>\n",
       "    <tr>\n",
       "      <th>25</th>\n",
       "      <td>tests/6-test.txt</td>\n",
       "      <td>1</td>\n",
       "      <td>Best-Fit Search</td>\n",
       "      <td>1</td>\n",
       "      <td>0.005</td>\n",
       "      <td>NaN</td>\n",
       "      <td>NaN</td>\n",
       "    </tr>\n",
       "    <tr>\n",
       "      <th>26</th>\n",
       "      <td>tests/6-test.txt</td>\n",
       "      <td>1</td>\n",
       "      <td>B&amp;B DFS</td>\n",
       "      <td>3</td>\n",
       "      <td>0.011</td>\n",
       "      <td>NaN</td>\n",
       "      <td>NaN</td>\n",
       "    </tr>\n",
       "    <tr>\n",
       "      <th>27</th>\n",
       "      <td>tests/6-test.txt</td>\n",
       "      <td>1</td>\n",
       "      <td>B&amp;B BFS</td>\n",
       "      <td>3</td>\n",
       "      <td>0.016</td>\n",
       "      <td>NaN</td>\n",
       "      <td>NaN</td>\n",
       "    </tr>\n",
       "    <tr>\n",
       "      <th>28</th>\n",
       "      <td>tests/7-test.txt</td>\n",
       "      <td>5</td>\n",
       "      <td>Blind Search</td>\n",
       "      <td>160</td>\n",
       "      <td>0.011</td>\n",
       "      <td>0 1 2 3 4</td>\n",
       "      <td>0 1 2 3 4</td>\n",
       "    </tr>\n",
       "    <tr>\n",
       "      <th>29</th>\n",
       "      <td>tests/7-test.txt</td>\n",
       "      <td>5</td>\n",
       "      <td>Best-Fit Search</td>\n",
       "      <td>5</td>\n",
       "      <td>0.011</td>\n",
       "      <td>4 3 0 2 1</td>\n",
       "      <td>0 1 2 3 4</td>\n",
       "    </tr>\n",
       "    <tr>\n",
       "      <th>...</th>\n",
       "      <td>...</td>\n",
       "      <td>...</td>\n",
       "      <td>...</td>\n",
       "      <td>...</td>\n",
       "      <td>...</td>\n",
       "      <td>...</td>\n",
       "      <td>...</td>\n",
       "    </tr>\n",
       "    <tr>\n",
       "      <th>3174</th>\n",
       "      <td>tests/793-test.txt</td>\n",
       "      <td>13</td>\n",
       "      <td>B&amp;B DFS</td>\n",
       "      <td>21</td>\n",
       "      <td>0.221</td>\n",
       "      <td>1 2 4 7 12</td>\n",
       "      <td>1 2 4 7 12</td>\n",
       "    </tr>\n",
       "    <tr>\n",
       "      <th>3175</th>\n",
       "      <td>tests/793-test.txt</td>\n",
       "      <td>13</td>\n",
       "      <td>B&amp;B BFS</td>\n",
       "      <td>459</td>\n",
       "      <td>4.032</td>\n",
       "      <td>1 2 4 7 12</td>\n",
       "      <td>1 2 4 7 12</td>\n",
       "    </tr>\n",
       "    <tr>\n",
       "      <th>3176</th>\n",
       "      <td>tests/794-test.txt</td>\n",
       "      <td>24</td>\n",
       "      <td>Blind Search</td>\n",
       "      <td>402653184</td>\n",
       "      <td>4009.540</td>\n",
       "      <td>2 5 7 9 12 16 21</td>\n",
       "      <td>2 5 7 9 12 16 21</td>\n",
       "    </tr>\n",
       "    <tr>\n",
       "      <th>3177</th>\n",
       "      <td>tests/794-test.txt</td>\n",
       "      <td>24</td>\n",
       "      <td>Best-Fit Search</td>\n",
       "      <td>24</td>\n",
       "      <td>0.033</td>\n",
       "      <td>5 7 9 2 12 21 16</td>\n",
       "      <td>2 5 7 9 12 16 21</td>\n",
       "    </tr>\n",
       "    <tr>\n",
       "      <th>3178</th>\n",
       "      <td>tests/794-test.txt</td>\n",
       "      <td>24</td>\n",
       "      <td>B&amp;B DFS</td>\n",
       "      <td>55</td>\n",
       "      <td>0.586</td>\n",
       "      <td>2 5 7 9 12 16 21</td>\n",
       "      <td>2 5 7 9 12 16 21</td>\n",
       "    </tr>\n",
       "    <tr>\n",
       "      <th>3179</th>\n",
       "      <td>tests/794-test.txt</td>\n",
       "      <td>24</td>\n",
       "      <td>B&amp;B BFS</td>\n",
       "      <td>26055</td>\n",
       "      <td>320.042</td>\n",
       "      <td>2 5 7 9 12 16 21</td>\n",
       "      <td>2 5 7 9 12 16 21</td>\n",
       "    </tr>\n",
       "    <tr>\n",
       "      <th>3180</th>\n",
       "      <td>tests/795-test.txt</td>\n",
       "      <td>9</td>\n",
       "      <td>Blind Search</td>\n",
       "      <td>4608</td>\n",
       "      <td>0.104</td>\n",
       "      <td>0 2 4 5 7</td>\n",
       "      <td>0 2 4 5 7</td>\n",
       "    </tr>\n",
       "    <tr>\n",
       "      <th>3181</th>\n",
       "      <td>tests/795-test.txt</td>\n",
       "      <td>9</td>\n",
       "      <td>Best-Fit Search</td>\n",
       "      <td>9</td>\n",
       "      <td>0.022</td>\n",
       "      <td>4 5 7 2 0</td>\n",
       "      <td>0 2 4 5 7</td>\n",
       "    </tr>\n",
       "    <tr>\n",
       "      <th>3182</th>\n",
       "      <td>tests/795-test.txt</td>\n",
       "      <td>9</td>\n",
       "      <td>B&amp;B DFS</td>\n",
       "      <td>11</td>\n",
       "      <td>0.099</td>\n",
       "      <td>0 2 4 5 7</td>\n",
       "      <td>0 2 4 5 7</td>\n",
       "    </tr>\n",
       "    <tr>\n",
       "      <th>3183</th>\n",
       "      <td>tests/795-test.txt</td>\n",
       "      <td>9</td>\n",
       "      <td>B&amp;B BFS</td>\n",
       "      <td>31</td>\n",
       "      <td>0.375</td>\n",
       "      <td>0 2 4 5 7</td>\n",
       "      <td>0 2 4 5 7</td>\n",
       "    </tr>\n",
       "    <tr>\n",
       "      <th>3184</th>\n",
       "      <td>tests/796-test.txt</td>\n",
       "      <td>18</td>\n",
       "      <td>Blind Search</td>\n",
       "      <td>4718592</td>\n",
       "      <td>50.747</td>\n",
       "      <td>1 5 7 8 10 15 17</td>\n",
       "      <td>1 5 7 8 10 15 17</td>\n",
       "    </tr>\n",
       "    <tr>\n",
       "      <th>3185</th>\n",
       "      <td>tests/796-test.txt</td>\n",
       "      <td>18</td>\n",
       "      <td>Best-Fit Search</td>\n",
       "      <td>18</td>\n",
       "      <td>0.024</td>\n",
       "      <td>10 5 7 1 8 15 17</td>\n",
       "      <td>1 5 7 8 10 15 17</td>\n",
       "    </tr>\n",
       "    <tr>\n",
       "      <th>3186</th>\n",
       "      <td>tests/796-test.txt</td>\n",
       "      <td>18</td>\n",
       "      <td>B&amp;B DFS</td>\n",
       "      <td>47</td>\n",
       "      <td>0.372</td>\n",
       "      <td>1 5 7 8 10 15 17</td>\n",
       "      <td>1 5 7 8 10 15 17</td>\n",
       "    </tr>\n",
       "    <tr>\n",
       "      <th>3187</th>\n",
       "      <td>tests/796-test.txt</td>\n",
       "      <td>18</td>\n",
       "      <td>B&amp;B BFS</td>\n",
       "      <td>2827</td>\n",
       "      <td>31.164</td>\n",
       "      <td>1 5 7 8 10 15 17</td>\n",
       "      <td>1 5 7 8 10 15 17</td>\n",
       "    </tr>\n",
       "    <tr>\n",
       "      <th>3188</th>\n",
       "      <td>tests/797-test.txt</td>\n",
       "      <td>27</td>\n",
       "      <td>Blind Search</td>\n",
       "      <td>-671088640</td>\n",
       "      <td>35504.500</td>\n",
       "      <td>1 15 24</td>\n",
       "      <td>1 15 24</td>\n",
       "    </tr>\n",
       "    <tr>\n",
       "      <th>3189</th>\n",
       "      <td>tests/797-test.txt</td>\n",
       "      <td>27</td>\n",
       "      <td>Best-Fit Search</td>\n",
       "      <td>27</td>\n",
       "      <td>0.041</td>\n",
       "      <td>24 1 15</td>\n",
       "      <td>1 15 24</td>\n",
       "    </tr>\n",
       "    <tr>\n",
       "      <th>3190</th>\n",
       "      <td>tests/797-test.txt</td>\n",
       "      <td>27</td>\n",
       "      <td>B&amp;B DFS</td>\n",
       "      <td>63</td>\n",
       "      <td>0.741</td>\n",
       "      <td>1 15 24</td>\n",
       "      <td>1 15 24</td>\n",
       "    </tr>\n",
       "    <tr>\n",
       "      <th>3191</th>\n",
       "      <td>tests/797-test.txt</td>\n",
       "      <td>27</td>\n",
       "      <td>B&amp;B BFS</td>\n",
       "      <td>2697</td>\n",
       "      <td>35.026</td>\n",
       "      <td>1 15 24</td>\n",
       "      <td>1 15 24</td>\n",
       "    </tr>\n",
       "    <tr>\n",
       "      <th>3192</th>\n",
       "      <td>tests/798-test.txt</td>\n",
       "      <td>8</td>\n",
       "      <td>Blind Search</td>\n",
       "      <td>2048</td>\n",
       "      <td>0.041</td>\n",
       "      <td>1 2 3 4 6 7</td>\n",
       "      <td>1 2 3 4 6 7</td>\n",
       "    </tr>\n",
       "    <tr>\n",
       "      <th>3193</th>\n",
       "      <td>tests/798-test.txt</td>\n",
       "      <td>8</td>\n",
       "      <td>Best-Fit Search</td>\n",
       "      <td>8</td>\n",
       "      <td>0.013</td>\n",
       "      <td>1 7 2 4 3 6</td>\n",
       "      <td>1 2 3 4 6 7</td>\n",
       "    </tr>\n",
       "    <tr>\n",
       "      <th>3194</th>\n",
       "      <td>tests/798-test.txt</td>\n",
       "      <td>8</td>\n",
       "      <td>B&amp;B DFS</td>\n",
       "      <td>5</td>\n",
       "      <td>0.034</td>\n",
       "      <td>1 2 3 4 6 7</td>\n",
       "      <td>1 2 3 4 6 7</td>\n",
       "    </tr>\n",
       "    <tr>\n",
       "      <th>3195</th>\n",
       "      <td>tests/798-test.txt</td>\n",
       "      <td>8</td>\n",
       "      <td>B&amp;B BFS</td>\n",
       "      <td>7</td>\n",
       "      <td>0.061</td>\n",
       "      <td>1 2 3 4 6 7</td>\n",
       "      <td>1 2 3 4 6 7</td>\n",
       "    </tr>\n",
       "    <tr>\n",
       "      <th>3196</th>\n",
       "      <td>tests/799-test.txt</td>\n",
       "      <td>12</td>\n",
       "      <td>Blind Search</td>\n",
       "      <td>49152</td>\n",
       "      <td>1.274</td>\n",
       "      <td>1 3 6 7 8</td>\n",
       "      <td>1 3 6 7 8</td>\n",
       "    </tr>\n",
       "    <tr>\n",
       "      <th>3197</th>\n",
       "      <td>tests/799-test.txt</td>\n",
       "      <td>12</td>\n",
       "      <td>Best-Fit Search</td>\n",
       "      <td>12</td>\n",
       "      <td>0.043</td>\n",
       "      <td>7 6 3 1 8</td>\n",
       "      <td>1 3 6 7 8</td>\n",
       "    </tr>\n",
       "    <tr>\n",
       "      <th>3198</th>\n",
       "      <td>tests/799-test.txt</td>\n",
       "      <td>12</td>\n",
       "      <td>B&amp;B DFS</td>\n",
       "      <td>23</td>\n",
       "      <td>0.169</td>\n",
       "      <td>1 3 6 7 8</td>\n",
       "      <td>1 3 6 7 8</td>\n",
       "    </tr>\n",
       "    <tr>\n",
       "      <th>3199</th>\n",
       "      <td>tests/799-test.txt</td>\n",
       "      <td>12</td>\n",
       "      <td>B&amp;B BFS</td>\n",
       "      <td>229</td>\n",
       "      <td>1.715</td>\n",
       "      <td>1 3 6 7 8</td>\n",
       "      <td>1 3 6 7 8</td>\n",
       "    </tr>\n",
       "    <tr>\n",
       "      <th>3200</th>\n",
       "      <td>tests/800-test.txt</td>\n",
       "      <td>27</td>\n",
       "      <td>Blind Search</td>\n",
       "      <td>-671088640</td>\n",
       "      <td>37201.600</td>\n",
       "      <td>1 2 7 21 23 25</td>\n",
       "      <td>1 2 7 21 23 25</td>\n",
       "    </tr>\n",
       "    <tr>\n",
       "      <th>3201</th>\n",
       "      <td>tests/800-test.txt</td>\n",
       "      <td>27</td>\n",
       "      <td>Best-Fit Search</td>\n",
       "      <td>27</td>\n",
       "      <td>0.065</td>\n",
       "      <td>1 7 23 2 25 6</td>\n",
       "      <td>1 2 7 21 23 25</td>\n",
       "    </tr>\n",
       "    <tr>\n",
       "      <th>3202</th>\n",
       "      <td>tests/800-test.txt</td>\n",
       "      <td>27</td>\n",
       "      <td>B&amp;B DFS</td>\n",
       "      <td>175</td>\n",
       "      <td>2.622</td>\n",
       "      <td>1 2 7 21 23 25</td>\n",
       "      <td>1 2 7 21 23 25</td>\n",
       "    </tr>\n",
       "    <tr>\n",
       "      <th>3203</th>\n",
       "      <td>tests/800-test.txt</td>\n",
       "      <td>27</td>\n",
       "      <td>B&amp;B BFS</td>\n",
       "      <td>45061</td>\n",
       "      <td>630.510</td>\n",
       "      <td>1 2 7 21 23 25</td>\n",
       "      <td>1 2 7 21 23 25</td>\n",
       "    </tr>\n",
       "  </tbody>\n",
       "</table>\n",
       "<p>3204 rows × 7 columns</p>\n",
       "</div>"
      ],
      "text/plain": [
       "               case_test   size      search_type      count       time  \\\n",
       "0       tests/0-test.txt      4     Blind Search         64      0.007   \n",
       "1       tests/0-test.txt      4  Best-Fit Search          4      0.008   \n",
       "2       tests/0-test.txt      4          B&B DFS          1      0.010   \n",
       "3       tests/0-test.txt      4          B&B BFS          1      0.010   \n",
       "4       tests/1-test.txt      8     Blind Search       2048      0.037   \n",
       "5       tests/1-test.txt      8  Best-Fit Search          8      0.012   \n",
       "6       tests/1-test.txt      8          B&B DFS          1      0.013   \n",
       "7       tests/1-test.txt      8          B&B BFS          1      0.014   \n",
       "8       tests/2-test.txt     10     Blind Search      10240      0.142   \n",
       "9       tests/2-test.txt     10  Best-Fit Search         10      0.014   \n",
       "10      tests/2-test.txt     10          B&B DFS         23      0.111   \n",
       "11      tests/2-test.txt     10          B&B BFS         21      0.163   \n",
       "12      tests/3-test.txt      5     Blind Search        160      0.009   \n",
       "13      tests/3-test.txt      5  Best-Fit Search          5      0.009   \n",
       "14      tests/3-test.txt      5          B&B DFS          5      0.021   \n",
       "15      tests/3-test.txt      5          B&B BFS          3      0.020   \n",
       "16      tests/4-test.txt      7     Blind Search        896      0.021   \n",
       "17      tests/4-test.txt      7  Best-Fit Search          7      0.011   \n",
       "18      tests/4-test.txt      7          B&B DFS         21      0.078   \n",
       "19      tests/4-test.txt      7          B&B BFS         21      0.130   \n",
       "20      tests/5-test.txt      1     Blind Search          2      0.007   \n",
       "21      tests/5-test.txt      1  Best-Fit Search          1      0.007   \n",
       "22      tests/5-test.txt      1          B&B DFS          1      0.012   \n",
       "23      tests/5-test.txt      1          B&B BFS          1      0.015   \n",
       "24      tests/6-test.txt      1     Blind Search          2      0.004   \n",
       "25      tests/6-test.txt      1  Best-Fit Search          1      0.005   \n",
       "26      tests/6-test.txt      1          B&B DFS          3      0.011   \n",
       "27      tests/6-test.txt      1          B&B BFS          3      0.016   \n",
       "28      tests/7-test.txt      5     Blind Search        160      0.011   \n",
       "29      tests/7-test.txt      5  Best-Fit Search          5      0.011   \n",
       "...                  ...    ...              ...        ...        ...   \n",
       "3174  tests/793-test.txt     13          B&B DFS         21      0.221   \n",
       "3175  tests/793-test.txt     13          B&B BFS        459      4.032   \n",
       "3176  tests/794-test.txt     24     Blind Search  402653184   4009.540   \n",
       "3177  tests/794-test.txt     24  Best-Fit Search         24      0.033   \n",
       "3178  tests/794-test.txt     24          B&B DFS         55      0.586   \n",
       "3179  tests/794-test.txt     24          B&B BFS      26055    320.042   \n",
       "3180  tests/795-test.txt      9     Blind Search       4608      0.104   \n",
       "3181  tests/795-test.txt      9  Best-Fit Search          9      0.022   \n",
       "3182  tests/795-test.txt      9          B&B DFS         11      0.099   \n",
       "3183  tests/795-test.txt      9          B&B BFS         31      0.375   \n",
       "3184  tests/796-test.txt     18     Blind Search    4718592     50.747   \n",
       "3185  tests/796-test.txt     18  Best-Fit Search         18      0.024   \n",
       "3186  tests/796-test.txt     18          B&B DFS         47      0.372   \n",
       "3187  tests/796-test.txt     18          B&B BFS       2827     31.164   \n",
       "3188  tests/797-test.txt     27     Blind Search -671088640  35504.500   \n",
       "3189  tests/797-test.txt     27  Best-Fit Search         27      0.041   \n",
       "3190  tests/797-test.txt     27          B&B DFS         63      0.741   \n",
       "3191  tests/797-test.txt     27          B&B BFS       2697     35.026   \n",
       "3192  tests/798-test.txt      8     Blind Search       2048      0.041   \n",
       "3193  tests/798-test.txt      8  Best-Fit Search          8      0.013   \n",
       "3194  tests/798-test.txt      8          B&B DFS          5      0.034   \n",
       "3195  tests/798-test.txt      8          B&B BFS          7      0.061   \n",
       "3196  tests/799-test.txt     12     Blind Search      49152      1.274   \n",
       "3197  tests/799-test.txt     12  Best-Fit Search         12      0.043   \n",
       "3198  tests/799-test.txt     12          B&B DFS         23      0.169   \n",
       "3199  tests/799-test.txt     12          B&B BFS        229      1.715   \n",
       "3200  tests/800-test.txt     27     Blind Search -671088640  37201.600   \n",
       "3201  tests/800-test.txt     27  Best-Fit Search         27      0.065   \n",
       "3202  tests/800-test.txt     27          B&B DFS        175      2.622   \n",
       "3203  tests/800-test.txt     27          B&B BFS      45061    630.510   \n",
       "\n",
       "                    ids       right_answer  \n",
       "0                  1 2                1 2   \n",
       "1                  1 2                1 2   \n",
       "2                  1 2                1 2   \n",
       "3                  1 2                1 2   \n",
       "4              2 4 5 7            2 4 5 7   \n",
       "5              2 5 4 7            2 4 5 7   \n",
       "6              2 4 5 7            2 4 5 7   \n",
       "7              2 4 5 7            2 4 5 7   \n",
       "8            0 2 5 7 9          0 2 5 7 9   \n",
       "9      7 9 0 5 8 1 4 6          0 2 5 7 9   \n",
       "10           0 2 5 7 9          0 2 5 7 9   \n",
       "11           0 2 5 7 9          0 2 5 7 9   \n",
       "12             0 1 2 3            0 1 2 3   \n",
       "13             1 3 0 2            0 1 2 3   \n",
       "14             0 1 2 3            0 1 2 3   \n",
       "15             0 1 2 3            0 1 2 3   \n",
       "16             0 2 4 6            0 2 4 6   \n",
       "17             0 6 5 2            0 2 4 6   \n",
       "18             0 2 4 6            0 2 4 6   \n",
       "19             0 2 4 6            0 2 4 6   \n",
       "20                   0                  0   \n",
       "21                   0                  0   \n",
       "22                   0                  0   \n",
       "23                   0                  0   \n",
       "24                  NaN                NaN  \n",
       "25                  NaN                NaN  \n",
       "26                  NaN                NaN  \n",
       "27                  NaN                NaN  \n",
       "28           0 1 2 3 4          0 1 2 3 4   \n",
       "29           4 3 0 2 1          0 1 2 3 4   \n",
       "...                 ...                ...  \n",
       "3174        1 2 4 7 12         1 2 4 7 12   \n",
       "3175        1 2 4 7 12         1 2 4 7 12   \n",
       "3176  2 5 7 9 12 16 21   2 5 7 9 12 16 21   \n",
       "3177  5 7 9 2 12 21 16   2 5 7 9 12 16 21   \n",
       "3178  2 5 7 9 12 16 21   2 5 7 9 12 16 21   \n",
       "3179  2 5 7 9 12 16 21   2 5 7 9 12 16 21   \n",
       "3180         0 2 4 5 7          0 2 4 5 7   \n",
       "3181         4 5 7 2 0          0 2 4 5 7   \n",
       "3182         0 2 4 5 7          0 2 4 5 7   \n",
       "3183         0 2 4 5 7          0 2 4 5 7   \n",
       "3184  1 5 7 8 10 15 17   1 5 7 8 10 15 17   \n",
       "3185  10 5 7 1 8 15 17   1 5 7 8 10 15 17   \n",
       "3186  1 5 7 8 10 15 17   1 5 7 8 10 15 17   \n",
       "3187  1 5 7 8 10 15 17   1 5 7 8 10 15 17   \n",
       "3188           1 15 24            1 15 24   \n",
       "3189           24 1 15            1 15 24   \n",
       "3190           1 15 24            1 15 24   \n",
       "3191           1 15 24            1 15 24   \n",
       "3192       1 2 3 4 6 7        1 2 3 4 6 7   \n",
       "3193       1 7 2 4 3 6        1 2 3 4 6 7   \n",
       "3194       1 2 3 4 6 7        1 2 3 4 6 7   \n",
       "3195       1 2 3 4 6 7        1 2 3 4 6 7   \n",
       "3196         1 3 6 7 8          1 3 6 7 8   \n",
       "3197         7 6 3 1 8          1 3 6 7 8   \n",
       "3198         1 3 6 7 8          1 3 6 7 8   \n",
       "3199         1 3 6 7 8          1 3 6 7 8   \n",
       "3200    1 2 7 21 23 25     1 2 7 21 23 25   \n",
       "3201     1 7 23 2 25 6     1 2 7 21 23 25   \n",
       "3202    1 2 7 21 23 25     1 2 7 21 23 25   \n",
       "3203    1 2 7 21 23 25     1 2 7 21 23 25   \n",
       "\n",
       "[3204 rows x 7 columns]"
      ]
     },
     "execution_count": 2,
     "metadata": {},
     "output_type": "execute_result"
    }
   ],
   "source": [
    "results = pd.read_csv(\"out.csv\")\n",
    "results"
   ]
  },
  {
   "cell_type": "markdown",
   "metadata": {},
   "source": [
    "Agora, nós vamos dividir os resultados dos testes por cada um dos algoritmos."
   ]
  },
  {
   "cell_type": "code",
   "execution_count": 3,
   "metadata": {
    "ExecuteTime": {
     "end_time": "2019-04-18T19:15:59.976017Z",
     "start_time": "2019-04-18T19:15:59.963490Z"
    }
   },
   "outputs": [],
   "source": [
    "blind_search = results[results[\" search_type\"] == \"Blind Search\"]\n",
    "best_fit = results[results[\" search_type\"] == \"Best-Fit Search\"]\n",
    "BB_DFS = results[results[\" search_type\"] == \"B&B DFS\"]\n",
    "BB_BFS = results[results[\" search_type\"] == \"B&B BFS\"]"
   ]
  },
  {
   "cell_type": "markdown",
   "metadata": {},
   "source": [
    "## Analisando o Blind Search\n",
    "\n",
    "Agora, vamos analisar os resultados do Blind Search. O primeiro passo é verificar valores que possam ter gerado algum erro, pois sabemos que em alguns casos o número de passos estourou o tamanho limite da variável de contagem. Para esses casos, iremos considerar count como infinito."
   ]
  },
  {
   "cell_type": "code",
   "execution_count": 4,
   "metadata": {
    "ExecuteTime": {
     "end_time": "2019-04-18T19:16:00.096526Z",
     "start_time": "2019-04-18T19:15:59.979613Z"
    }
   },
   "outputs": [
    {
     "name": "stdout",
     "output_type": "stream",
     "text": [
      "<class 'pandas.core.frame.DataFrame'>\n",
      "Int64Index: 801 entries, 0 to 3200\n",
      "Data columns (total 7 columns):\n",
      "case_test       801 non-null object\n",
      " size           801 non-null int64\n",
      " search_type    801 non-null object\n",
      "count           801 non-null int64\n",
      "time            801 non-null float64\n",
      "ids             732 non-null object\n",
      "right_answer    732 non-null object\n",
      "dtypes: float64(1), int64(2), object(4)\n",
      "memory usage: 50.1+ KB\n"
     ]
    }
   ],
   "source": [
    "blind_search.info()"
   ]
  },
  {
   "cell_type": "markdown",
   "metadata": {},
   "source": [
    "Podemos ver que em (801 - 732) casos, o caso de teste não apresentava solução. \n",
    "\n",
    "Vamos cuidar agora da variável count."
   ]
  },
  {
   "cell_type": "code",
   "execution_count": 5,
   "metadata": {
    "ExecuteTime": {
     "end_time": "2019-04-18T19:16:00.280240Z",
     "start_time": "2019-04-18T19:16:00.100029Z"
    }
   },
   "outputs": [],
   "source": [
    "blind_search[\"count\"][blind_search[\"count\"] < 0] = np.inf"
   ]
  },
  {
   "cell_type": "code",
   "execution_count": 6,
   "metadata": {
    "ExecuteTime": {
     "end_time": "2019-04-18T19:16:00.476884Z",
     "start_time": "2019-04-18T19:16:00.282576Z"
    }
   },
   "outputs": [
    {
     "data": {
      "text/html": [
       "<div>\n",
       "<style scoped>\n",
       "    .dataframe tbody tr th:only-of-type {\n",
       "        vertical-align: middle;\n",
       "    }\n",
       "\n",
       "    .dataframe tbody tr th {\n",
       "        vertical-align: top;\n",
       "    }\n",
       "\n",
       "    .dataframe thead th {\n",
       "        text-align: right;\n",
       "    }\n",
       "</style>\n",
       "<table border=\"1\" class=\"dataframe\">\n",
       "  <thead>\n",
       "    <tr style=\"text-align: right;\">\n",
       "      <th></th>\n",
       "      <th>size</th>\n",
       "      <th>count</th>\n",
       "      <th>time</th>\n",
       "    </tr>\n",
       "  </thead>\n",
       "  <tbody>\n",
       "    <tr>\n",
       "      <th>count</th>\n",
       "      <td>801.000000</td>\n",
       "      <td>8.010000e+02</td>\n",
       "      <td>801.000000</td>\n",
       "    </tr>\n",
       "    <tr>\n",
       "      <th>mean</th>\n",
       "      <td>16.942572</td>\n",
       "      <td>inf</td>\n",
       "      <td>3082.369170</td>\n",
       "    </tr>\n",
       "    <tr>\n",
       "      <th>std</th>\n",
       "      <td>5.881683</td>\n",
       "      <td>NaN</td>\n",
       "      <td>7912.520584</td>\n",
       "    </tr>\n",
       "    <tr>\n",
       "      <th>min</th>\n",
       "      <td>1.000000</td>\n",
       "      <td>2.000000e+00</td>\n",
       "      <td>0.004000</td>\n",
       "    </tr>\n",
       "    <tr>\n",
       "      <th>25%</th>\n",
       "      <td>12.000000</td>\n",
       "      <td>4.915200e+04</td>\n",
       "      <td>0.599000</td>\n",
       "    </tr>\n",
       "    <tr>\n",
       "      <th>50%</th>\n",
       "      <td>17.000000</td>\n",
       "      <td>2.228224e+06</td>\n",
       "      <td>23.213000</td>\n",
       "    </tr>\n",
       "    <tr>\n",
       "      <th>75%</th>\n",
       "      <td>22.000000</td>\n",
       "      <td>9.227469e+07</td>\n",
       "      <td>922.570000</td>\n",
       "    </tr>\n",
       "    <tr>\n",
       "      <th>max</th>\n",
       "      <td>27.000000</td>\n",
       "      <td>inf</td>\n",
       "      <td>37201.600000</td>\n",
       "    </tr>\n",
       "  </tbody>\n",
       "</table>\n",
       "</div>"
      ],
      "text/plain": [
       "             size         count          time\n",
       "count  801.000000  8.010000e+02    801.000000\n",
       "mean    16.942572           inf   3082.369170\n",
       "std      5.881683           NaN   7912.520584\n",
       "min      1.000000  2.000000e+00      0.004000\n",
       "25%     12.000000  4.915200e+04      0.599000\n",
       "50%     17.000000  2.228224e+06     23.213000\n",
       "75%     22.000000  9.227469e+07    922.570000\n",
       "max     27.000000           inf  37201.600000"
      ]
     },
     "execution_count": 6,
     "metadata": {},
     "output_type": "execute_result"
    }
   ],
   "source": [
    "blind_search.describe()"
   ]
  },
  {
   "cell_type": "markdown",
   "metadata": {},
   "source": [
    "### Análise do tempo de execução\n",
    "\n",
    "Vamos verificar como o tempo varia em relação ao tamanho do problema"
   ]
  },
  {
   "cell_type": "code",
   "execution_count": 7,
   "metadata": {
    "ExecuteTime": {
     "end_time": "2019-04-18T19:16:00.931336Z",
     "start_time": "2019-04-18T19:16:00.481352Z"
    }
   },
   "outputs": [
    {
     "data": {
      "image/png": "[encoded data removed]",
      "text/plain": [
       "<Figure size 1080x576 with 1 Axes>"
      ]
     },
     "metadata": {
      "needs_background": "light"
     },
     "output_type": "display_data"
    }
   ],
   "source": [
    "plt.figure(figsize=(15,8))\n",
    "sns.scatterplot(x = blind_search[\" size\"], y = blind_search[\"time\"])\n",
    "plt.savefig(\"graficos/blind_tempo\")"
   ]
  },
  {
   "cell_type": "markdown",
   "metadata": {},
   "source": [
    "### Análise do número de passos"
   ]
  },
  {
   "cell_type": "code",
   "execution_count": 8,
   "metadata": {
    "ExecuteTime": {
     "end_time": "2019-04-18T19:16:01.207140Z",
     "start_time": "2019-04-18T19:16:00.934075Z"
    }
   },
   "outputs": [
    {
     "data": {
      "image/png": "[encoded data removed]",
      "text/plain": [
       "<Figure size 1080x576 with 1 Axes>"
      ]
     },
     "metadata": {
      "needs_background": "light"
     },
     "output_type": "display_data"
    }
   ],
   "source": [
    "plt.figure(figsize=(15,8))\n",
    "sns.scatterplot(x = blind_search[\" size\"], y = blind_search[\"count\"])\n",
    "plt.savefig(\"graficos/blind_passos\")"
   ]
  },
  {
   "cell_type": "markdown",
   "metadata": {},
   "source": [
    "## Analisando o Best-Fit"
   ]
  },
  {
   "cell_type": "code",
   "execution_count": 9,
   "metadata": {
    "ExecuteTime": {
     "end_time": "2019-04-18T19:16:01.221148Z",
     "start_time": "2019-04-18T19:16:01.211435Z"
    },
    "scrolled": true
   },
   "outputs": [
    {
     "name": "stdout",
     "output_type": "stream",
     "text": [
      "<class 'pandas.core.frame.DataFrame'>\n",
      "Int64Index: 801 entries, 1 to 3201\n",
      "Data columns (total 7 columns):\n",
      "case_test       801 non-null object\n",
      " size           801 non-null int64\n",
      " search_type    801 non-null object\n",
      "count           801 non-null int64\n",
      "time            801 non-null float64\n",
      "ids             732 non-null object\n",
      "right_answer    732 non-null object\n",
      "dtypes: float64(1), int64(2), object(4)\n",
      "memory usage: 50.1+ KB\n"
     ]
    }
   ],
   "source": [
    "best_fit.info()"
   ]
  },
  {
   "cell_type": "code",
   "execution_count": 10,
   "metadata": {
    "ExecuteTime": {
     "end_time": "2019-04-18T19:16:01.301461Z",
     "start_time": "2019-04-18T19:16:01.225484Z"
    }
   },
   "outputs": [
    {
     "data": {
      "text/html": [
       "<div>\n",
       "<style scoped>\n",
       "    .dataframe tbody tr th:only-of-type {\n",
       "        vertical-align: middle;\n",
       "    }\n",
       "\n",
       "    .dataframe tbody tr th {\n",
       "        vertical-align: top;\n",
       "    }\n",
       "\n",
       "    .dataframe thead th {\n",
       "        text-align: right;\n",
       "    }\n",
       "</style>\n",
       "<table border=\"1\" class=\"dataframe\">\n",
       "  <thead>\n",
       "    <tr style=\"text-align: right;\">\n",
       "      <th></th>\n",
       "      <th>size</th>\n",
       "      <th>count</th>\n",
       "      <th>time</th>\n",
       "    </tr>\n",
       "  </thead>\n",
       "  <tbody>\n",
       "    <tr>\n",
       "      <th>count</th>\n",
       "      <td>801.000000</td>\n",
       "      <td>801.000000</td>\n",
       "      <td>801.000000</td>\n",
       "    </tr>\n",
       "    <tr>\n",
       "      <th>mean</th>\n",
       "      <td>16.942572</td>\n",
       "      <td>16.942572</td>\n",
       "      <td>0.023883</td>\n",
       "    </tr>\n",
       "    <tr>\n",
       "      <th>std</th>\n",
       "      <td>5.881683</td>\n",
       "      <td>5.881683</td>\n",
       "      <td>0.009344</td>\n",
       "    </tr>\n",
       "    <tr>\n",
       "      <th>min</th>\n",
       "      <td>1.000000</td>\n",
       "      <td>1.000000</td>\n",
       "      <td>0.005000</td>\n",
       "    </tr>\n",
       "    <tr>\n",
       "      <th>25%</th>\n",
       "      <td>12.000000</td>\n",
       "      <td>12.000000</td>\n",
       "      <td>0.017000</td>\n",
       "    </tr>\n",
       "    <tr>\n",
       "      <th>50%</th>\n",
       "      <td>17.000000</td>\n",
       "      <td>17.000000</td>\n",
       "      <td>0.022000</td>\n",
       "    </tr>\n",
       "    <tr>\n",
       "      <th>75%</th>\n",
       "      <td>22.000000</td>\n",
       "      <td>22.000000</td>\n",
       "      <td>0.031000</td>\n",
       "    </tr>\n",
       "    <tr>\n",
       "      <th>max</th>\n",
       "      <td>27.000000</td>\n",
       "      <td>27.000000</td>\n",
       "      <td>0.069000</td>\n",
       "    </tr>\n",
       "  </tbody>\n",
       "</table>\n",
       "</div>"
      ],
      "text/plain": [
       "             size       count        time\n",
       "count  801.000000  801.000000  801.000000\n",
       "mean    16.942572   16.942572    0.023883\n",
       "std      5.881683    5.881683    0.009344\n",
       "min      1.000000    1.000000    0.005000\n",
       "25%     12.000000   12.000000    0.017000\n",
       "50%     17.000000   17.000000    0.022000\n",
       "75%     22.000000   22.000000    0.031000\n",
       "max     27.000000   27.000000    0.069000"
      ]
     },
     "execution_count": 10,
     "metadata": {},
     "output_type": "execute_result"
    }
   ],
   "source": [
    "best_fit.describe()"
   ]
  },
  {
   "cell_type": "markdown",
   "metadata": {},
   "source": [
    "Como podemos ver, o Best-Fit não teve problema de estourar o número de passos."
   ]
  },
  {
   "cell_type": "markdown",
   "metadata": {},
   "source": [
    "### Análise do Tempo de Execução"
   ]
  },
  {
   "cell_type": "code",
   "execution_count": 11,
   "metadata": {
    "ExecuteTime": {
     "end_time": "2019-04-18T19:16:01.605253Z",
     "start_time": "2019-04-18T19:16:01.304431Z"
    }
   },
   "outputs": [
    {
     "data": {
      "image/png": "[encoded data removed]",
      "text/plain": [
       "<Figure size 1080x576 with 1 Axes>"
      ]
     },
     "metadata": {
      "needs_background": "light"
     },
     "output_type": "display_data"
    }
   ],
   "source": [
    "plt.figure(figsize=(15,8))\n",
    "sns.scatterplot(x = best_fit[\" size\"], y = best_fit[\"time\"])\n",
    "plt.savefig(\"graficos/best_tempo\")"
   ]
  },
  {
   "cell_type": "markdown",
   "metadata": {},
   "source": [
    "### Análise do Número de Passos"
   ]
  },
  {
   "cell_type": "code",
   "execution_count": 12,
   "metadata": {
    "ExecuteTime": {
     "end_time": "2019-04-18T19:16:01.842818Z",
     "start_time": "2019-04-18T19:16:01.608054Z"
    }
   },
   "outputs": [
    {
     "data": {
      "image/png": "[encoded data removed]",
      "text/plain": [
       "<Figure size 1080x576 with 1 Axes>"
      ]
     },
     "metadata": {
      "needs_background": "light"
     },
     "output_type": "display_data"
    }
   ],
   "source": [
    "plt.figure(figsize=(15,8))\n",
    "sns.scatterplot(x = best_fit[\" size\"], y = best_fit[\"count\"])\n",
    "plt.savefig(\"graficos/best_passos\")"
   ]
  },
  {
   "cell_type": "markdown",
   "metadata": {},
   "source": [
    "## Analisando o Branch and Bound DFS"
   ]
  },
  {
   "cell_type": "code",
   "execution_count": 13,
   "metadata": {
    "ExecuteTime": {
     "end_time": "2019-04-18T19:16:01.856299Z",
     "start_time": "2019-04-18T19:16:01.845564Z"
    }
   },
   "outputs": [
    {
     "name": "stdout",
     "output_type": "stream",
     "text": [
      "<class 'pandas.core.frame.DataFrame'>\n",
      "Int64Index: 801 entries, 2 to 3202\n",
      "Data columns (total 7 columns):\n",
      "case_test       801 non-null object\n",
      " size           801 non-null int64\n",
      " search_type    801 non-null object\n",
      "count           801 non-null int64\n",
      "time            801 non-null float64\n",
      "ids             732 non-null object\n",
      "right_answer    732 non-null object\n",
      "dtypes: float64(1), int64(2), object(4)\n",
      "memory usage: 50.1+ KB\n"
     ]
    }
   ],
   "source": [
    "BB_DFS.info()"
   ]
  },
  {
   "cell_type": "code",
   "execution_count": 14,
   "metadata": {
    "ExecuteTime": {
     "end_time": "2019-04-18T19:16:01.933528Z",
     "start_time": "2019-04-18T19:16:01.858230Z"
    }
   },
   "outputs": [
    {
     "data": {
      "text/html": [
       "<div>\n",
       "<style scoped>\n",
       "    .dataframe tbody tr th:only-of-type {\n",
       "        vertical-align: middle;\n",
       "    }\n",
       "\n",
       "    .dataframe tbody tr th {\n",
       "        vertical-align: top;\n",
       "    }\n",
       "\n",
       "    .dataframe thead th {\n",
       "        text-align: right;\n",
       "    }\n",
       "</style>\n",
       "<table border=\"1\" class=\"dataframe\">\n",
       "  <thead>\n",
       "    <tr style=\"text-align: right;\">\n",
       "      <th></th>\n",
       "      <th>size</th>\n",
       "      <th>count</th>\n",
       "      <th>time</th>\n",
       "    </tr>\n",
       "  </thead>\n",
       "  <tbody>\n",
       "    <tr>\n",
       "      <th>count</th>\n",
       "      <td>801.000000</td>\n",
       "      <td>801.000000</td>\n",
       "      <td>801.000000</td>\n",
       "    </tr>\n",
       "    <tr>\n",
       "      <th>mean</th>\n",
       "      <td>16.942572</td>\n",
       "      <td>75.731586</td>\n",
       "      <td>0.624693</td>\n",
       "    </tr>\n",
       "    <tr>\n",
       "      <th>std</th>\n",
       "      <td>5.881683</td>\n",
       "      <td>77.407810</td>\n",
       "      <td>0.762196</td>\n",
       "    </tr>\n",
       "    <tr>\n",
       "      <th>min</th>\n",
       "      <td>1.000000</td>\n",
       "      <td>1.000000</td>\n",
       "      <td>0.010000</td>\n",
       "    </tr>\n",
       "    <tr>\n",
       "      <th>25%</th>\n",
       "      <td>12.000000</td>\n",
       "      <td>29.000000</td>\n",
       "      <td>0.161000</td>\n",
       "    </tr>\n",
       "    <tr>\n",
       "      <th>50%</th>\n",
       "      <td>17.000000</td>\n",
       "      <td>47.000000</td>\n",
       "      <td>0.354000</td>\n",
       "    </tr>\n",
       "    <tr>\n",
       "      <th>75%</th>\n",
       "      <td>22.000000</td>\n",
       "      <td>97.000000</td>\n",
       "      <td>0.762000</td>\n",
       "    </tr>\n",
       "    <tr>\n",
       "      <th>max</th>\n",
       "      <td>27.000000</td>\n",
       "      <td>571.000000</td>\n",
       "      <td>6.515000</td>\n",
       "    </tr>\n",
       "  </tbody>\n",
       "</table>\n",
       "</div>"
      ],
      "text/plain": [
       "             size       count        time\n",
       "count  801.000000  801.000000  801.000000\n",
       "mean    16.942572   75.731586    0.624693\n",
       "std      5.881683   77.407810    0.762196\n",
       "min      1.000000    1.000000    0.010000\n",
       "25%     12.000000   29.000000    0.161000\n",
       "50%     17.000000   47.000000    0.354000\n",
       "75%     22.000000   97.000000    0.762000\n",
       "max     27.000000  571.000000    6.515000"
      ]
     },
     "execution_count": 14,
     "metadata": {},
     "output_type": "execute_result"
    }
   ],
   "source": [
    "BB_DFS.describe()"
   ]
  },
  {
   "cell_type": "markdown",
   "metadata": {},
   "source": [
    "### Análise do tempo"
   ]
  },
  {
   "cell_type": "code",
   "execution_count": 15,
   "metadata": {
    "ExecuteTime": {
     "end_time": "2019-04-18T19:16:02.262812Z",
     "start_time": "2019-04-18T19:16:01.935874Z"
    }
   },
   "outputs": [
    {
     "data": {
      "image/png": "[encoded data removed]",
      "text/plain": [
       "<Figure size 1080x576 with 1 Axes>"
      ]
     },
     "metadata": {
      "needs_background": "light"
     },
     "output_type": "display_data"
    }
   ],
   "source": [
    "plt.figure(figsize=(15,8))\n",
    "sns.scatterplot(x = BB_DFS[\" size\"], y = BB_DFS[\"time\"])\n",
    "plt.savefig(\"graficos/BB_DFS_tempo\")"
   ]
  },
  {
   "cell_type": "markdown",
   "metadata": {},
   "source": [
    "### Análise do Número de Passos"
   ]
  },
  {
   "cell_type": "code",
   "execution_count": 16,
   "metadata": {
    "ExecuteTime": {
     "end_time": "2019-04-18T19:16:02.523846Z",
     "start_time": "2019-04-18T19:16:02.267034Z"
    }
   },
   "outputs": [
    {
     "data": {
      "image/png": "[encoded data removed]",
      "text/plain": [
       "<Figure size 1080x576 with 1 Axes>"
      ]
     },
     "metadata": {
      "needs_background": "light"
     },
     "output_type": "display_data"
    }
   ],
   "source": [
    "plt.figure(figsize=(15,8))\n",
    "sns.scatterplot(x = BB_DFS[\" size\"], y = BB_DFS[\"count\"])\n",
    "plt.savefig(\"graficos/BB_DFS_passos\")"
   ]
  },
  {
   "cell_type": "markdown",
   "metadata": {},
   "source": [
    "## Análise do Branch and Bound BFS"
   ]
  },
  {
   "cell_type": "code",
   "execution_count": 17,
   "metadata": {
    "ExecuteTime": {
     "end_time": "2019-04-18T19:16:02.535829Z",
     "start_time": "2019-04-18T19:16:02.527357Z"
    }
   },
   "outputs": [
    {
     "name": "stdout",
     "output_type": "stream",
     "text": [
      "<class 'pandas.core.frame.DataFrame'>\n",
      "Int64Index: 801 entries, 3 to 3203\n",
      "Data columns (total 7 columns):\n",
      "case_test       801 non-null object\n",
      " size           801 non-null int64\n",
      " search_type    801 non-null object\n",
      "count           801 non-null int64\n",
      "time            801 non-null float64\n",
      "ids             732 non-null object\n",
      "right_answer    732 non-null object\n",
      "dtypes: float64(1), int64(2), object(4)\n",
      "memory usage: 50.1+ KB\n"
     ]
    }
   ],
   "source": [
    "BB_BFS.info()"
   ]
  },
  {
   "cell_type": "code",
   "execution_count": 18,
   "metadata": {
    "ExecuteTime": {
     "end_time": "2019-04-18T19:16:02.615702Z",
     "start_time": "2019-04-18T19:16:02.537854Z"
    }
   },
   "outputs": [
    {
     "data": {
      "text/html": [
       "<div>\n",
       "<style scoped>\n",
       "    .dataframe tbody tr th:only-of-type {\n",
       "        vertical-align: middle;\n",
       "    }\n",
       "\n",
       "    .dataframe tbody tr th {\n",
       "        vertical-align: top;\n",
       "    }\n",
       "\n",
       "    .dataframe thead th {\n",
       "        text-align: right;\n",
       "    }\n",
       "</style>\n",
       "<table border=\"1\" class=\"dataframe\">\n",
       "  <thead>\n",
       "    <tr style=\"text-align: right;\">\n",
       "      <th></th>\n",
       "      <th>size</th>\n",
       "      <th>count</th>\n",
       "      <th>time</th>\n",
       "    </tr>\n",
       "  </thead>\n",
       "  <tbody>\n",
       "    <tr>\n",
       "      <th>count</th>\n",
       "      <td>801.000000</td>\n",
       "      <td>801.000000</td>\n",
       "      <td>801.000000</td>\n",
       "    </tr>\n",
       "    <tr>\n",
       "      <th>mean</th>\n",
       "      <td>16.942572</td>\n",
       "      <td>5382.131086</td>\n",
       "      <td>65.740652</td>\n",
       "    </tr>\n",
       "    <tr>\n",
       "      <th>std</th>\n",
       "      <td>5.881683</td>\n",
       "      <td>14054.046994</td>\n",
       "      <td>181.782096</td>\n",
       "    </tr>\n",
       "    <tr>\n",
       "      <th>min</th>\n",
       "      <td>1.000000</td>\n",
       "      <td>1.000000</td>\n",
       "      <td>0.010000</td>\n",
       "    </tr>\n",
       "    <tr>\n",
       "      <th>25%</th>\n",
       "      <td>12.000000</td>\n",
       "      <td>79.000000</td>\n",
       "      <td>0.610000</td>\n",
       "    </tr>\n",
       "    <tr>\n",
       "      <th>50%</th>\n",
       "      <td>17.000000</td>\n",
       "      <td>461.000000</td>\n",
       "      <td>4.153000</td>\n",
       "    </tr>\n",
       "    <tr>\n",
       "      <th>75%</th>\n",
       "      <td>22.000000</td>\n",
       "      <td>3479.000000</td>\n",
       "      <td>38.245000</td>\n",
       "    </tr>\n",
       "    <tr>\n",
       "      <th>max</th>\n",
       "      <td>27.000000</td>\n",
       "      <td>148605.000000</td>\n",
       "      <td>1958.500000</td>\n",
       "    </tr>\n",
       "  </tbody>\n",
       "</table>\n",
       "</div>"
      ],
      "text/plain": [
       "             size          count         time\n",
       "count  801.000000     801.000000   801.000000\n",
       "mean    16.942572    5382.131086    65.740652\n",
       "std      5.881683   14054.046994   181.782096\n",
       "min      1.000000       1.000000     0.010000\n",
       "25%     12.000000      79.000000     0.610000\n",
       "50%     17.000000     461.000000     4.153000\n",
       "75%     22.000000    3479.000000    38.245000\n",
       "max     27.000000  148605.000000  1958.500000"
      ]
     },
     "execution_count": 18,
     "metadata": {},
     "output_type": "execute_result"
    }
   ],
   "source": [
    "BB_BFS.describe()"
   ]
  },
  {
   "cell_type": "markdown",
   "metadata": {},
   "source": [
    "### Analisando o tempo"
   ]
  },
  {
   "cell_type": "code",
   "execution_count": 19,
   "metadata": {
    "ExecuteTime": {
     "end_time": "2019-04-18T19:16:02.948671Z",
     "start_time": "2019-04-18T19:16:02.618615Z"
    }
   },
   "outputs": [
    {
     "data": {
      "image/png": "[encoded data removed]",
      "text/plain": [
       "<Figure size 1080x576 with 1 Axes>"
      ]
     },
     "metadata": {
      "needs_background": "light"
     },
     "output_type": "display_data"
    }
   ],
   "source": [
    "plt.figure(figsize=(15,8))\n",
    "sns.scatterplot(x = BB_BFS[\" size\"], y = BB_BFS[\"time\"])\n",
    "plt.savefig(\"graficos/BB_BFS_tempo\")"
   ]
  },
  {
   "cell_type": "markdown",
   "metadata": {},
   "source": [
    "### Analisando o número de passos"
   ]
  },
  {
   "cell_type": "code",
   "execution_count": 20,
   "metadata": {
    "ExecuteTime": {
     "end_time": "2019-04-18T19:16:03.316463Z",
     "start_time": "2019-04-18T19:16:02.951038Z"
    }
   },
   "outputs": [
    {
     "data": {
      "image/png": "[encoded data removed]",
      "text/plain": [
       "<Figure size 1080x576 with 1 Axes>"
      ]
     },
     "metadata": {
      "needs_background": "light"
     },
     "output_type": "display_data"
    }
   ],
   "source": [
    "plt.figure(figsize=(15,8))\n",
    "sns.scatterplot(x = BB_BFS[\" size\"], y = BB_BFS[\"count\"])\n",
    "plt.savefig(\"graficos/BB_BFS_passos\")"
   ]
  },
  {
   "cell_type": "markdown",
   "metadata": {},
   "source": [
    "## Fazendo a análise de número de ótimos do Best_Fit"
   ]
  },
  {
   "cell_type": "code",
   "execution_count": 21,
   "metadata": {
    "ExecuteTime": {
     "end_time": "2019-04-18T19:16:03.367583Z",
     "start_time": "2019-04-18T19:16:03.319245Z"
    }
   },
   "outputs": [],
   "source": [
    "best_fit[\"isGreat\"] = False"
   ]
  },
  {
   "cell_type": "code",
   "execution_count": 22,
   "metadata": {
    "ExecuteTime": {
     "end_time": "2019-04-18T19:16:03.465158Z",
     "start_time": "2019-04-18T19:16:03.369848Z"
    }
   },
   "outputs": [],
   "source": [
    "def verify_great(df, df_name):\n",
    "\n",
    "    cont = 0\n",
    "    for index, row in df.iterrows():\n",
    "        resultado = row[\"ids\"]\n",
    "        verdadeiro = row[\"right_answer\"]\n",
    "\n",
    "        if(resultado is np.nan or verdadeiro is np.nan):\n",
    "            df.at[index,\"isGreat\"] = True\n",
    "            cont += 1\n",
    "            continue\n",
    "\n",
    "        resultado = resultado.split(\" \")\n",
    "        verdadeiro = verdadeiro.split(\" \")\n",
    "\n",
    "\n",
    "        resultado.remove(\"\")\n",
    "        verdadeiro.remove(\"\")\n",
    "\n",
    "        resultado = list(map(int,resultado))\n",
    "        verdadeiro = list(map(int,verdadeiro))\n",
    "\n",
    "        resultado.sort()\n",
    "        verdadeiro.sort()\n",
    "\n",
    "        if(resultado == verdadeiro):\n",
    "            df.at[index,\"isGreat\"] = True\n",
    "            cont += 1\n",
    "    \n",
    "    plt.figure(figsize=(15,8))\n",
    "    plt.title(str(df_name))\n",
    "\n",
    "    plt.pie(df[\"isGreat\"].value_counts(), autopct=\"%1.1f%%\")\n",
    "    plt.savefig(\"graficos/{}\".format(df_name))"
   ]
  },
  {
   "cell_type": "code",
   "execution_count": 23,
   "metadata": {
    "ExecuteTime": {
     "end_time": "2019-04-18T19:16:03.814946Z",
     "start_time": "2019-04-18T19:16:03.468702Z"
    }
   },
   "outputs": [
    {
     "data": {
      "image/png": "[encoded data removed]",
      "text/plain": [
       "<Figure size 1080x576 with 1 Axes>"
      ]
     },
     "metadata": {},
     "output_type": "display_data"
    }
   ],
   "source": [
    "verify_great(best_fit, \"Porcentagem de Ótimos do Best Fit\")"
   ]
  },
  {
   "cell_type": "code",
   "execution_count": 24,
   "metadata": {
    "ExecuteTime": {
     "end_time": "2019-04-18T19:16:04.083887Z",
     "start_time": "2019-04-18T19:16:03.818046Z"
    }
   },
   "outputs": [
    {
     "data": {
      "image/png": "[encoded data removed]",
      "text/plain": [
       "<Figure size 1080x576 with 1 Axes>"
      ]
     },
     "metadata": {},
     "output_type": "display_data"
    }
   ],
   "source": [
    "blind_search[\"isGreat\"] = False\n",
    "verify_great(blind_search, \"Porcentagem de Ótimos do Blind Search\")"
   ]
  },
  {
   "cell_type": "code",
   "execution_count": 25,
   "metadata": {
    "ExecuteTime": {
     "end_time": "2019-04-18T19:16:04.430807Z",
     "start_time": "2019-04-18T19:16:04.086328Z"
    }
   },
   "outputs": [
    {
     "data": {
      "image/png": "[encoded data removed]",
      "text/plain": [
       "<Figure size 1080x576 with 1 Axes>"
      ]
     },
     "metadata": {},
     "output_type": "display_data"
    }
   ],
   "source": [
    "BB_BFS[\"isGreat\"] = False\n",
    "verify_great(BB_BFS, \"Porcentagem de Ótimos do B&B BFS\")"
   ]
  },
  {
   "cell_type": "code",
   "execution_count": 26,
   "metadata": {
    "ExecuteTime": {
     "end_time": "2019-04-18T19:16:04.783346Z",
     "start_time": "2019-04-18T19:16:04.433184Z"
    }
   },
   "outputs": [
    {
     "data": {
      "image/png": "[encoded data removed]",
      "text/plain": [
       "<Figure size 1080x576 with 1 Axes>"
      ]
     },
     "metadata": {},
     "output_type": "display_data"
    }
   ],
   "source": [
    "BB_DFS[\"isGreat\"] = False\n",
    "verify_great(BB_DFS, \"Porcentagem de Ótimos do B&B DFS\")"
   ]
  }
 ],
 "metadata": {
  "kernelspec": {
   "display_name": "Python 3",
   "language": "python",
   "name": "python3"
  },
  "language_info": {
   "codemirror_mode": {
    "name": "ipython",
    "version": 3
   },
   "file_extension": ".py",
   "mimetype": "text/x-python",
   "name": "python",
   "nbconvert_exporter": "python",
   "pygments_lexer": "ipython3",
   "version": "3.7.2"
  }
 },
 "nbformat": 4,
 "nbformat_minor": 2
}
